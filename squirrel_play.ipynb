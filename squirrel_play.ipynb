{
 "cells": [
  {
   "cell_type": "markdown",
   "id": "0c1ffe87",
   "metadata": {},
   "source": [
    "# Logic-1 > squirrel_play"
   ]
  },
  {
   "cell_type": "markdown",
   "id": "45b444b1",
   "metadata": {},
   "source": [
    "The squirrels in Palo Alto spend most of the day playing. In particular, they play if the temperature is between 60 and 90 (inclusive). Unless it is summer, then the upper limit is 100 instead of 90. Given an int temperature and a boolean is_summer, return True if the squirrels play and False otherwise.\n",
    "\n",
    "\n",
    "squirrel_play(70, False) → True\n",
    "\n",
    "squirrel_play(95, False) → False\n",
    "\n",
    "squirrel_play(95, True) → True"
   ]
  },
  {
   "cell_type": "code",
   "execution_count": null,
   "id": "a596f7d6",
   "metadata": {},
   "outputs": [],
   "source": [
    "def squirrel_play(temp, is_summer):\n",
    "  \n",
    "  if is_summer:\n",
    "    if temp in range(60,101):\n",
    "      return True\n",
    "    else:\n",
    "      return False\n",
    "  else:\n",
    "    if temp in range(60,91):\n",
    "      return True\n",
    "    else:\n",
    "      return False"
   ]
  }
 ],
 "metadata": {
  "kernelspec": {
   "display_name": "Python 3 (ipykernel)",
   "language": "python",
   "name": "python3"
  },
  "language_info": {
   "codemirror_mode": {
    "name": "ipython",
    "version": 3
   },
   "file_extension": ".py",
   "mimetype": "text/x-python",
   "name": "python",
   "nbconvert_exporter": "python",
   "pygments_lexer": "ipython3",
   "version": "3.9.12"
  }
 },
 "nbformat": 4,
 "nbformat_minor": 5
}
